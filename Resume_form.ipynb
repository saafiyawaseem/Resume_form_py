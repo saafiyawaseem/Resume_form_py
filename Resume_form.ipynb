{
  "nbformat": 4,
  "nbformat_minor": 0,
  "metadata": {
    "colab": {
      "provenance": [],
      "authorship_tag": "ABX9TyO0HwmN3fNHoo/zxXBKcdFM",
      "include_colab_link": true
    },
    "kernelspec": {
      "name": "python3",
      "display_name": "Python 3"
    },
    "language_info": {
      "name": "python"
    }
  },
  "cells": [
    {
      "cell_type": "markdown",
      "metadata": {
        "id": "view-in-github",
        "colab_type": "text"
      },
      "source": [
        "<a href=\"https://colab.research.google.com/github/saafiyawaseem/Resume_form_py/blob/main/Resume_form.ipynb\" target=\"_parent\"><img src=\"https://colab.research.google.com/assets/colab-badge.svg\" alt=\"Open In Colab\"/></a>"
      ]
    },
    {
      "cell_type": "markdown",
      "source": [
        "#Resume\n"
      ],
      "metadata": {
        "id": "TYOTlGg2d-se"
      }
    },
    {
      "cell_type": "code",
      "execution_count": 4,
      "metadata": {
        "id": "JbV2YtFQdqWG",
        "colab": {
          "base_uri": "https://localhost:8080/"
        },
        "outputId": "fd135a84-613a-4a08-bfe0-7c9213f126ea"
      },
      "outputs": [
        {
          "output_type": "stream",
          "name": "stdout",
          "text": [
            "Enter your Name:Ahmed\n",
            "Ahmed\n",
            "Enter your Age:20\n",
            "20\n",
            "Enter your Email:234@gmail.com\n",
            "234@gmail.com\n",
            "Enter your Skill:Typescript ,Javascript,Programmer ,Full Stack developer, Python codder\n",
            "Typescript ,Javascript,Programmer ,Full Stack developer, Python codder\n",
            "Enter your Education :BSC\n",
            "BSC\n",
            "Enter your Country :Pakistan\n",
            "Pakistan\n",
            "Enter your City:Karachi\n",
            "Karachi\n",
            "Enter your date of Birth:26 jan 2006\n",
            "26 jan 2006\n"
          ]
        }
      ],
      "source": [
        "name = input(\"Enter your Name:\")\n",
        "print(name)\n",
        "age = int(input(\"Enter your Age:\"))\n",
        "print(age)\n",
        "emaile = input(\"Enter your Email:\")\n",
        "print(emaile)\n",
        "skill = input(\"Enter your Skill:\")\n",
        "print(skill)\n",
        "education =input(\"Enter your Education :\")\n",
        "print(education)\n",
        "country = input(\"Enter your Country :\")\n",
        "print(country)\n",
        "city =input(\"Enter your City:\")\n",
        "print(city)\n",
        "dob = (input(\"Enter your date of Birth:\"))\n",
        "print(dob)\n"
      ]
    },
    {
      "cell_type": "code",
      "source": [],
      "metadata": {
        "id": "HTf34xPSsG6_"
      },
      "execution_count": null,
      "outputs": []
    },
    {
      "cell_type": "markdown",
      "source": [],
      "metadata": {
        "id": "SfQIv0wmd5dU"
      }
    }
  ]
}